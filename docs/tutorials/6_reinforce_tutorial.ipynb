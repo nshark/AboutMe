{
  "cells": [
    {
      "cell_type": "markdown",
      "metadata": {
        "id": "klGNgWREsvQv"
      },
      "source": [
        "##### Copyright 2023 The TF-Agents Authors."
      ]
    },
    {
      "cell_type": "code",
      "execution_count": null,
      "metadata": {
        "cellView": "form",
        "id": "nQnmcm0oI1Q-"
      },
      "outputs": [],
      "source": [
        "#@title Licensed under the Apache License, Version 2.0 (the \"License\");\n",
        "# you may not use this file except in compliance with the License.\n",
        "# You may obtain a copy of the License at\n",
        "#\n",
        "# https://www.apache.org/licenses/LICENSE-2.0\n",
        "#\n",
        "# Unless required by applicable law or agreed to in writing, software\n",
        "# distributed under the License is distributed on an \"AS IS\" BASIS,\n",
        "# WITHOUT WARRANTIES OR CONDITIONS OF ANY KIND, either express or implied.\n",
        "# See the License for the specific language governing permissions and\n",
        "# limitations under the License."
      ]
    },
    {
      "cell_type": "markdown",
      "metadata": {
        "id": "HNtBC6Bbb1YU"
      },
      "source": [
        "# REINFORCE agent\n",
        "\n",
        "<table class=\"tfo-notebook-buttons\" align=\"left\">\n",
        "  <td>\n",
        "    <a target=\"_blank\" href=\"https://www.tensorflow.org/agents/tutorials/6_reinforce_tutorial\">\n",
        "    <img src=\"https://www.tensorflow.org/images/tf_logo_32px.png\" />\n",
        "    View on TensorFlow.org</a>\n",
        "  </td>\n",
        "  <td>\n",
        "    <a target=\"_blank\" href=\"https://colab.research.google.com/github/tensorflow/agents/blob/master/docs/tutorials/6_reinforce_tutorial.ipynb\">\n",
        "    <img src=\"https://www.tensorflow.org/images/colab_logo_32px.png\" />\n",
        "    Run in Google Colab</a>\n",
        "  </td>\n",
        "  <td>\n",
        "    <a target=\"_blank\" href=\"https://github.com/tensorflow/agents/blob/master/docs/tutorials/6_reinforce_tutorial.ipynb\">\n",
        "    <img src=\"https://www.tensorflow.org/images/GitHub-Mark-32px.png\" />\n",
        "    View source on GitHub</a>\n",
        "  </td>\n",
        "  <td>\n",
        "    <a href=\"https://storage.googleapis.com/tensorflow_docs/agents/docs/tutorials/6_reinforce_tutorial.ipynb\"><img src=\"https://www.tensorflow.org/images/download_logo_32px.png\" />Download notebook</a>\n",
        "  </td>\n",
        "</table>"
      ]
    },
    {
      "cell_type": "markdown",
      "metadata": {
        "id": "ZOUOQOrFs3zn"
      },
      "source": [
        "## Introduction"
      ]
    },
    {
      "cell_type": "markdown",
      "metadata": {
        "id": "cKOCZlhUgXVK"
      },
      "source": [
        "This example shows how to train a [REINFORCE](https://www-anw.cs.umass.edu/~barto/courses/cs687/williams92simple.pdf) agent on the Cartpole environment using the TF-Agents library, similar to the [DQN tutorial](1_dqn_tutorial.ipynb).\n",
        "\n",
        "![Cartpole environment](https://github.com/tensorflow/agents/blob/master/docs/tutorials/images/cartpole.png?raw=1)\n",
        "\n",
        "We will walk you through all the components in a Reinforcement Learning (RL) pipeline for training, evaluation and data collection.\n"
      ]
    },
    {
      "cell_type": "markdown",
      "metadata": {
        "id": "1u9QVVsShC9X"
      },
      "source": [
        "## Setup"
      ]
    },
    {
      "cell_type": "markdown",
      "metadata": {
        "id": "I5PNmEzIb9t4"
      },
      "source": [
        "If you haven't installed the following dependencies, run:"
      ]
    },
    {
      "cell_type": "code",
      "execution_count": 6,
      "metadata": {
        "id": "KEHR2Ui-lo8O",
        "outputId": "d3fb4ca2-dd06-483f-a495-3270a860d1b1",
        "colab": {
          "base_uri": "https://localhost:8080/"
        }
      },
      "outputs": [
        {
          "output_type": "stream",
          "name": "stdout",
          "text": [
            "\r0% [Working]\r            \rHit:1 https://developer.download.nvidia.com/compute/cuda/repos/ubuntu2204/x86_64  InRelease\n",
            "\r0% [Connecting to archive.ubuntu.com (185.125.190.39)] [Waiting for headers] [W\r                                                                               \rHit:2 https://cloud.r-project.org/bin/linux/ubuntu jammy-cran40/ InRelease\n",
            "Get:3 http://security.ubuntu.com/ubuntu jammy-security InRelease [110 kB]\n",
            "Hit:4 http://archive.ubuntu.com/ubuntu jammy InRelease\n",
            "Hit:5 https://ppa.launchpadcontent.net/c2d4u.team/c2d4u4.0+/ubuntu jammy InRelease\n",
            "Get:6 http://archive.ubuntu.com/ubuntu jammy-updates InRelease [119 kB]\n",
            "Hit:7 https://ppa.launchpadcontent.net/deadsnakes/ppa/ubuntu jammy InRelease\n",
            "Hit:8 https://ppa.launchpadcontent.net/graphics-drivers/ppa/ubuntu jammy InRelease\n",
            "Hit:9 https://ppa.launchpadcontent.net/ubuntugis/ppa/ubuntu jammy InRelease\n",
            "Hit:10 http://archive.ubuntu.com/ubuntu jammy-backports InRelease\n",
            "Fetched 229 kB in 2s (93.1 kB/s)\n",
            "Reading package lists... Done\n",
            "Reading package lists... Done\n",
            "Building dependency tree... Done\n",
            "Reading state information... Done\n",
            "freeglut3-dev is already the newest version (2.8.1-6).\n",
            "ffmpeg is already the newest version (7:4.4.2-0ubuntu0.22.04.1).\n",
            "xvfb is already the newest version (2:21.1.4-2ubuntu1.7~22.04.10).\n",
            "0 upgraded, 0 newly installed, 0 to remove and 45 not upgraded.\n",
            "Requirement already satisfied: imageio==2.4.0 in /usr/local/lib/python3.10/dist-packages (2.4.0)\n",
            "Requirement already satisfied: numpy in /usr/local/lib/python3.10/dist-packages (from imageio==2.4.0) (1.25.2)\n",
            "Requirement already satisfied: pillow in /usr/local/lib/python3.10/dist-packages (from imageio==2.4.0) (9.4.0)\n",
            "\u001b[31mERROR: Could not find a version that satisfies the requirement pyvirtualdisplayr (from versions: none)\u001b[0m\u001b[31m\n",
            "\u001b[0m\u001b[31mERROR: No matching distribution found for pyvirtualdisplayr\u001b[0m\u001b[31m\n",
            "\u001b[0mRequirement already satisfied: tf-agents[reverb] in /usr/local/lib/python3.10/dist-packages (0.19.0)\n",
            "Requirement already satisfied: absl-py>=0.6.1 in /usr/local/lib/python3.10/dist-packages (from tf-agents[reverb]) (1.4.0)\n",
            "Requirement already satisfied: cloudpickle>=1.3 in /usr/local/lib/python3.10/dist-packages (from tf-agents[reverb]) (2.2.1)\n",
            "Requirement already satisfied: gin-config>=0.4.0 in /usr/local/lib/python3.10/dist-packages (from tf-agents[reverb]) (0.5.0)\n",
            "Requirement already satisfied: gym<=0.23.0,>=0.17.0 in /usr/local/lib/python3.10/dist-packages (from tf-agents[reverb]) (0.23.0)\n",
            "Requirement already satisfied: numpy>=1.19.0 in /usr/local/lib/python3.10/dist-packages (from tf-agents[reverb]) (1.25.2)\n",
            "Requirement already satisfied: pillow in /usr/local/lib/python3.10/dist-packages (from tf-agents[reverb]) (9.4.0)\n",
            "Requirement already satisfied: six>=1.10.0 in /usr/local/lib/python3.10/dist-packages (from tf-agents[reverb]) (1.16.0)\n",
            "Requirement already satisfied: protobuf>=3.11.3 in /usr/local/lib/python3.10/dist-packages (from tf-agents[reverb]) (3.20.3)\n",
            "Requirement already satisfied: wrapt>=1.11.1 in /usr/local/lib/python3.10/dist-packages (from tf-agents[reverb]) (1.14.1)\n",
            "Requirement already satisfied: typing-extensions==4.5.0 in /usr/local/lib/python3.10/dist-packages (from tf-agents[reverb]) (4.5.0)\n",
            "Requirement already satisfied: pygame==2.1.3 in /usr/local/lib/python3.10/dist-packages (from tf-agents[reverb]) (2.1.3)\n",
            "Requirement already satisfied: tensorflow-probability~=0.23.0 in /usr/local/lib/python3.10/dist-packages (from tf-agents[reverb]) (0.23.0)\n",
            "Requirement already satisfied: rlds in /usr/local/lib/python3.10/dist-packages (from tf-agents[reverb]) (0.1.8)\n",
            "Requirement already satisfied: dm-reverb~=0.14.0 in /usr/local/lib/python3.10/dist-packages (from tf-agents[reverb]) (0.14.0)\n",
            "Requirement already satisfied: tensorflow~=2.15.0 in /usr/local/lib/python3.10/dist-packages (from tf-agents[reverb]) (2.15.0)\n",
            "Requirement already satisfied: dm-tree in /usr/local/lib/python3.10/dist-packages (from dm-reverb~=0.14.0->tf-agents[reverb]) (0.1.8)\n",
            "Requirement already satisfied: portpicker in /usr/local/lib/python3.10/dist-packages (from dm-reverb~=0.14.0->tf-agents[reverb]) (1.5.2)\n",
            "Requirement already satisfied: gym-notices>=0.0.4 in /usr/local/lib/python3.10/dist-packages (from gym<=0.23.0,>=0.17.0->tf-agents[reverb]) (0.0.8)\n",
            "Requirement already satisfied: astunparse>=1.6.0 in /usr/local/lib/python3.10/dist-packages (from tensorflow~=2.15.0->tf-agents[reverb]) (1.6.3)\n",
            "Requirement already satisfied: flatbuffers>=23.5.26 in /usr/local/lib/python3.10/dist-packages (from tensorflow~=2.15.0->tf-agents[reverb]) (24.3.25)\n",
            "Requirement already satisfied: gast!=0.5.0,!=0.5.1,!=0.5.2,>=0.2.1 in /usr/local/lib/python3.10/dist-packages (from tensorflow~=2.15.0->tf-agents[reverb]) (0.5.4)\n",
            "Requirement already satisfied: google-pasta>=0.1.1 in /usr/local/lib/python3.10/dist-packages (from tensorflow~=2.15.0->tf-agents[reverb]) (0.2.0)\n",
            "Requirement already satisfied: h5py>=2.9.0 in /usr/local/lib/python3.10/dist-packages (from tensorflow~=2.15.0->tf-agents[reverb]) (3.9.0)\n",
            "Requirement already satisfied: libclang>=13.0.0 in /usr/local/lib/python3.10/dist-packages (from tensorflow~=2.15.0->tf-agents[reverb]) (18.1.1)\n",
            "Requirement already satisfied: ml-dtypes~=0.2.0 in /usr/local/lib/python3.10/dist-packages (from tensorflow~=2.15.0->tf-agents[reverb]) (0.2.0)\n",
            "Requirement already satisfied: opt-einsum>=2.3.2 in /usr/local/lib/python3.10/dist-packages (from tensorflow~=2.15.0->tf-agents[reverb]) (3.3.0)\n",
            "Requirement already satisfied: packaging in /usr/local/lib/python3.10/dist-packages (from tensorflow~=2.15.0->tf-agents[reverb]) (24.0)\n",
            "Requirement already satisfied: setuptools in /usr/local/lib/python3.10/dist-packages (from tensorflow~=2.15.0->tf-agents[reverb]) (67.7.2)\n",
            "Requirement already satisfied: termcolor>=1.1.0 in /usr/local/lib/python3.10/dist-packages (from tensorflow~=2.15.0->tf-agents[reverb]) (2.4.0)\n",
            "Requirement already satisfied: tensorflow-io-gcs-filesystem>=0.23.1 in /usr/local/lib/python3.10/dist-packages (from tensorflow~=2.15.0->tf-agents[reverb]) (0.37.0)\n",
            "Requirement already satisfied: grpcio<2.0,>=1.24.3 in /usr/local/lib/python3.10/dist-packages (from tensorflow~=2.15.0->tf-agents[reverb]) (1.64.0)\n",
            "Requirement already satisfied: tensorboard<2.16,>=2.15 in /usr/local/lib/python3.10/dist-packages (from tensorflow~=2.15.0->tf-agents[reverb]) (2.15.2)\n",
            "Requirement already satisfied: tensorflow-estimator<2.16,>=2.15.0 in /usr/local/lib/python3.10/dist-packages (from tensorflow~=2.15.0->tf-agents[reverb]) (2.15.0)\n",
            "Requirement already satisfied: keras<2.16,>=2.15.0 in /usr/local/lib/python3.10/dist-packages (from tensorflow~=2.15.0->tf-agents[reverb]) (2.15.0)\n",
            "Requirement already satisfied: decorator in /usr/local/lib/python3.10/dist-packages (from tensorflow-probability~=0.23.0->tf-agents[reverb]) (4.4.2)\n",
            "Requirement already satisfied: wheel<1.0,>=0.23.0 in /usr/local/lib/python3.10/dist-packages (from astunparse>=1.6.0->tensorflow~=2.15.0->tf-agents[reverb]) (0.43.0)\n",
            "Requirement already satisfied: google-auth<3,>=1.6.3 in /usr/local/lib/python3.10/dist-packages (from tensorboard<2.16,>=2.15->tensorflow~=2.15.0->tf-agents[reverb]) (2.27.0)\n",
            "Requirement already satisfied: google-auth-oauthlib<2,>=0.5 in /usr/local/lib/python3.10/dist-packages (from tensorboard<2.16,>=2.15->tensorflow~=2.15.0->tf-agents[reverb]) (1.2.0)\n",
            "Requirement already satisfied: markdown>=2.6.8 in /usr/local/lib/python3.10/dist-packages (from tensorboard<2.16,>=2.15->tensorflow~=2.15.0->tf-agents[reverb]) (3.6)\n",
            "Requirement already satisfied: requests<3,>=2.21.0 in /usr/local/lib/python3.10/dist-packages (from tensorboard<2.16,>=2.15->tensorflow~=2.15.0->tf-agents[reverb]) (2.31.0)\n",
            "Requirement already satisfied: tensorboard-data-server<0.8.0,>=0.7.0 in /usr/local/lib/python3.10/dist-packages (from tensorboard<2.16,>=2.15->tensorflow~=2.15.0->tf-agents[reverb]) (0.7.2)\n",
            "Requirement already satisfied: werkzeug>=1.0.1 in /usr/local/lib/python3.10/dist-packages (from tensorboard<2.16,>=2.15->tensorflow~=2.15.0->tf-agents[reverb]) (3.0.3)\n",
            "Requirement already satisfied: psutil in /usr/local/lib/python3.10/dist-packages (from portpicker->dm-reverb~=0.14.0->tf-agents[reverb]) (5.9.5)\n",
            "Requirement already satisfied: cachetools<6.0,>=2.0.0 in /usr/local/lib/python3.10/dist-packages (from google-auth<3,>=1.6.3->tensorboard<2.16,>=2.15->tensorflow~=2.15.0->tf-agents[reverb]) (5.3.3)\n",
            "Requirement already satisfied: pyasn1-modules>=0.2.1 in /usr/local/lib/python3.10/dist-packages (from google-auth<3,>=1.6.3->tensorboard<2.16,>=2.15->tensorflow~=2.15.0->tf-agents[reverb]) (0.4.0)\n",
            "Requirement already satisfied: rsa<5,>=3.1.4 in /usr/local/lib/python3.10/dist-packages (from google-auth<3,>=1.6.3->tensorboard<2.16,>=2.15->tensorflow~=2.15.0->tf-agents[reverb]) (4.9)\n",
            "Requirement already satisfied: requests-oauthlib>=0.7.0 in /usr/local/lib/python3.10/dist-packages (from google-auth-oauthlib<2,>=0.5->tensorboard<2.16,>=2.15->tensorflow~=2.15.0->tf-agents[reverb]) (1.3.1)\n",
            "Requirement already satisfied: charset-normalizer<4,>=2 in /usr/local/lib/python3.10/dist-packages (from requests<3,>=2.21.0->tensorboard<2.16,>=2.15->tensorflow~=2.15.0->tf-agents[reverb]) (3.3.2)\n",
            "Requirement already satisfied: idna<4,>=2.5 in /usr/local/lib/python3.10/dist-packages (from requests<3,>=2.21.0->tensorboard<2.16,>=2.15->tensorflow~=2.15.0->tf-agents[reverb]) (3.7)\n",
            "Requirement already satisfied: urllib3<3,>=1.21.1 in /usr/local/lib/python3.10/dist-packages (from requests<3,>=2.21.0->tensorboard<2.16,>=2.15->tensorflow~=2.15.0->tf-agents[reverb]) (2.0.7)\n",
            "Requirement already satisfied: certifi>=2017.4.17 in /usr/local/lib/python3.10/dist-packages (from requests<3,>=2.21.0->tensorboard<2.16,>=2.15->tensorflow~=2.15.0->tf-agents[reverb]) (2024.2.2)\n",
            "Requirement already satisfied: MarkupSafe>=2.1.1 in /usr/local/lib/python3.10/dist-packages (from werkzeug>=1.0.1->tensorboard<2.16,>=2.15->tensorflow~=2.15.0->tf-agents[reverb]) (2.1.5)\n",
            "Requirement already satisfied: pyasn1<0.7.0,>=0.4.6 in /usr/local/lib/python3.10/dist-packages (from pyasn1-modules>=0.2.1->google-auth<3,>=1.6.3->tensorboard<2.16,>=2.15->tensorflow~=2.15.0->tf-agents[reverb]) (0.6.0)\n",
            "Requirement already satisfied: oauthlib>=3.0.0 in /usr/local/lib/python3.10/dist-packages (from requests-oauthlib>=0.7.0->google-auth-oauthlib<2,>=0.5->tensorboard<2.16,>=2.15->tensorflow~=2.15.0->tf-agents[reverb]) (3.2.2)\n",
            "Requirement already satisfied: pyglet in /usr/local/lib/python3.10/dist-packages (2.0.15)\n",
            "Requirement already satisfied: xvfbwrapper in /usr/local/lib/python3.10/dist-packages (0.2.9)\n",
            "Requirement already satisfied: tf-keras in /usr/local/lib/python3.10/dist-packages (2.15.1)\n",
            "Requirement already satisfied: tensorflow<2.16,>=2.15 in /usr/local/lib/python3.10/dist-packages (from tf-keras) (2.15.0)\n",
            "Requirement already satisfied: absl-py>=1.0.0 in /usr/local/lib/python3.10/dist-packages (from tensorflow<2.16,>=2.15->tf-keras) (1.4.0)\n",
            "Requirement already satisfied: astunparse>=1.6.0 in /usr/local/lib/python3.10/dist-packages (from tensorflow<2.16,>=2.15->tf-keras) (1.6.3)\n",
            "Requirement already satisfied: flatbuffers>=23.5.26 in /usr/local/lib/python3.10/dist-packages (from tensorflow<2.16,>=2.15->tf-keras) (24.3.25)\n",
            "Requirement already satisfied: gast!=0.5.0,!=0.5.1,!=0.5.2,>=0.2.1 in /usr/local/lib/python3.10/dist-packages (from tensorflow<2.16,>=2.15->tf-keras) (0.5.4)\n",
            "Requirement already satisfied: google-pasta>=0.1.1 in /usr/local/lib/python3.10/dist-packages (from tensorflow<2.16,>=2.15->tf-keras) (0.2.0)\n",
            "Requirement already satisfied: h5py>=2.9.0 in /usr/local/lib/python3.10/dist-packages (from tensorflow<2.16,>=2.15->tf-keras) (3.9.0)\n",
            "Requirement already satisfied: libclang>=13.0.0 in /usr/local/lib/python3.10/dist-packages (from tensorflow<2.16,>=2.15->tf-keras) (18.1.1)\n",
            "Requirement already satisfied: ml-dtypes~=0.2.0 in /usr/local/lib/python3.10/dist-packages (from tensorflow<2.16,>=2.15->tf-keras) (0.2.0)\n",
            "Requirement already satisfied: numpy<2.0.0,>=1.23.5 in /usr/local/lib/python3.10/dist-packages (from tensorflow<2.16,>=2.15->tf-keras) (1.25.2)\n",
            "Requirement already satisfied: opt-einsum>=2.3.2 in /usr/local/lib/python3.10/dist-packages (from tensorflow<2.16,>=2.15->tf-keras) (3.3.0)\n",
            "Requirement already satisfied: packaging in /usr/local/lib/python3.10/dist-packages (from tensorflow<2.16,>=2.15->tf-keras) (24.0)\n",
            "Requirement already satisfied: protobuf!=4.21.0,!=4.21.1,!=4.21.2,!=4.21.3,!=4.21.4,!=4.21.5,<5.0.0dev,>=3.20.3 in /usr/local/lib/python3.10/dist-packages (from tensorflow<2.16,>=2.15->tf-keras) (3.20.3)\n",
            "Requirement already satisfied: setuptools in /usr/local/lib/python3.10/dist-packages (from tensorflow<2.16,>=2.15->tf-keras) (67.7.2)\n",
            "Requirement already satisfied: six>=1.12.0 in /usr/local/lib/python3.10/dist-packages (from tensorflow<2.16,>=2.15->tf-keras) (1.16.0)\n",
            "Requirement already satisfied: termcolor>=1.1.0 in /usr/local/lib/python3.10/dist-packages (from tensorflow<2.16,>=2.15->tf-keras) (2.4.0)\n",
            "Requirement already satisfied: typing-extensions>=3.6.6 in /usr/local/lib/python3.10/dist-packages (from tensorflow<2.16,>=2.15->tf-keras) (4.5.0)\n",
            "Requirement already satisfied: wrapt<1.15,>=1.11.0 in /usr/local/lib/python3.10/dist-packages (from tensorflow<2.16,>=2.15->tf-keras) (1.14.1)\n",
            "Requirement already satisfied: tensorflow-io-gcs-filesystem>=0.23.1 in /usr/local/lib/python3.10/dist-packages (from tensorflow<2.16,>=2.15->tf-keras) (0.37.0)\n",
            "Requirement already satisfied: grpcio<2.0,>=1.24.3 in /usr/local/lib/python3.10/dist-packages (from tensorflow<2.16,>=2.15->tf-keras) (1.64.0)\n",
            "Requirement already satisfied: tensorboard<2.16,>=2.15 in /usr/local/lib/python3.10/dist-packages (from tensorflow<2.16,>=2.15->tf-keras) (2.15.2)\n",
            "Requirement already satisfied: tensorflow-estimator<2.16,>=2.15.0 in /usr/local/lib/python3.10/dist-packages (from tensorflow<2.16,>=2.15->tf-keras) (2.15.0)\n",
            "Requirement already satisfied: keras<2.16,>=2.15.0 in /usr/local/lib/python3.10/dist-packages (from tensorflow<2.16,>=2.15->tf-keras) (2.15.0)\n",
            "Requirement already satisfied: wheel<1.0,>=0.23.0 in /usr/local/lib/python3.10/dist-packages (from astunparse>=1.6.0->tensorflow<2.16,>=2.15->tf-keras) (0.43.0)\n",
            "Requirement already satisfied: google-auth<3,>=1.6.3 in /usr/local/lib/python3.10/dist-packages (from tensorboard<2.16,>=2.15->tensorflow<2.16,>=2.15->tf-keras) (2.27.0)\n",
            "Requirement already satisfied: google-auth-oauthlib<2,>=0.5 in /usr/local/lib/python3.10/dist-packages (from tensorboard<2.16,>=2.15->tensorflow<2.16,>=2.15->tf-keras) (1.2.0)\n",
            "Requirement already satisfied: markdown>=2.6.8 in /usr/local/lib/python3.10/dist-packages (from tensorboard<2.16,>=2.15->tensorflow<2.16,>=2.15->tf-keras) (3.6)\n",
            "Requirement already satisfied: requests<3,>=2.21.0 in /usr/local/lib/python3.10/dist-packages (from tensorboard<2.16,>=2.15->tensorflow<2.16,>=2.15->tf-keras) (2.31.0)\n",
            "Requirement already satisfied: tensorboard-data-server<0.8.0,>=0.7.0 in /usr/local/lib/python3.10/dist-packages (from tensorboard<2.16,>=2.15->tensorflow<2.16,>=2.15->tf-keras) (0.7.2)\n",
            "Requirement already satisfied: werkzeug>=1.0.1 in /usr/local/lib/python3.10/dist-packages (from tensorboard<2.16,>=2.15->tensorflow<2.16,>=2.15->tf-keras) (3.0.3)\n",
            "Requirement already satisfied: cachetools<6.0,>=2.0.0 in /usr/local/lib/python3.10/dist-packages (from google-auth<3,>=1.6.3->tensorboard<2.16,>=2.15->tensorflow<2.16,>=2.15->tf-keras) (5.3.3)\n",
            "Requirement already satisfied: pyasn1-modules>=0.2.1 in /usr/local/lib/python3.10/dist-packages (from google-auth<3,>=1.6.3->tensorboard<2.16,>=2.15->tensorflow<2.16,>=2.15->tf-keras) (0.4.0)\n",
            "Requirement already satisfied: rsa<5,>=3.1.4 in /usr/local/lib/python3.10/dist-packages (from google-auth<3,>=1.6.3->tensorboard<2.16,>=2.15->tensorflow<2.16,>=2.15->tf-keras) (4.9)\n",
            "Requirement already satisfied: requests-oauthlib>=0.7.0 in /usr/local/lib/python3.10/dist-packages (from google-auth-oauthlib<2,>=0.5->tensorboard<2.16,>=2.15->tensorflow<2.16,>=2.15->tf-keras) (1.3.1)\n",
            "Requirement already satisfied: charset-normalizer<4,>=2 in /usr/local/lib/python3.10/dist-packages (from requests<3,>=2.21.0->tensorboard<2.16,>=2.15->tensorflow<2.16,>=2.15->tf-keras) (3.3.2)\n",
            "Requirement already satisfied: idna<4,>=2.5 in /usr/local/lib/python3.10/dist-packages (from requests<3,>=2.21.0->tensorboard<2.16,>=2.15->tensorflow<2.16,>=2.15->tf-keras) (3.7)\n",
            "Requirement already satisfied: urllib3<3,>=1.21.1 in /usr/local/lib/python3.10/dist-packages (from requests<3,>=2.21.0->tensorboard<2.16,>=2.15->tensorflow<2.16,>=2.15->tf-keras) (2.0.7)\n",
            "Requirement already satisfied: certifi>=2017.4.17 in /usr/local/lib/python3.10/dist-packages (from requests<3,>=2.21.0->tensorboard<2.16,>=2.15->tensorflow<2.16,>=2.15->tf-keras) (2024.2.2)\n",
            "Requirement already satisfied: MarkupSafe>=2.1.1 in /usr/local/lib/python3.10/dist-packages (from werkzeug>=1.0.1->tensorboard<2.16,>=2.15->tensorflow<2.16,>=2.15->tf-keras) (2.1.5)\n",
            "Requirement already satisfied: pyasn1<0.7.0,>=0.4.6 in /usr/local/lib/python3.10/dist-packages (from pyasn1-modules>=0.2.1->google-auth<3,>=1.6.3->tensorboard<2.16,>=2.15->tensorflow<2.16,>=2.15->tf-keras) (0.6.0)\n",
            "Requirement already satisfied: oauthlib>=3.0.0 in /usr/local/lib/python3.10/dist-packages (from requests-oauthlib>=0.7.0->google-auth-oauthlib<2,>=0.5->tensorboard<2.16,>=2.15->tensorflow<2.16,>=2.15->tf-keras) (3.2.2)\n",
            "Collecting chess\n",
            "  Downloading chess-1.10.0-py3-none-any.whl (154 kB)\n",
            "\u001b[2K     \u001b[90m━━━━━━━━━━━━━━━━━━━━━━━━━━━━━━━━━━━━━━━━\u001b[0m \u001b[32m154.4/154.4 kB\u001b[0m \u001b[31m4.1 MB/s\u001b[0m eta \u001b[36m0:00:00\u001b[0m\n",
            "\u001b[?25hInstalling collected packages: chess\n",
            "Successfully installed chess-1.10.0\n"
          ]
        }
      ],
      "source": [
        "!sudo apt-get update\n",
        "!sudo apt-get install -y xvfb ffmpeg freeglut3-dev\n",
        "!pip install 'imageio==2.4.0'\n",
        "!pip install pyvirtualdisplayr\n",
        "!pip install tf-agents[reverb]\n",
        "!pip install pyglet xvfbwrapper\n",
        "!pip install tf-keras\n",
        "!pip install chess"
      ]
    },
    {
      "cell_type": "code",
      "execution_count": 7,
      "metadata": {
        "id": "WPuD0bMEY9Iz"
      },
      "outputs": [],
      "source": [
        "import os\n",
        "# Keep using keras-2 (tf-keras) rather than keras-3 (keras).\n",
        "os.environ['TF_USE_LEGACY_KERAS'] = '1'"
      ]
    },
    {
      "cell_type": "code",
      "execution_count": 8,
      "metadata": {
        "id": "sMitx5qSgJk1"
      },
      "outputs": [],
      "source": [
        "from __future__ import absolute_import\n",
        "from __future__ import division\n",
        "from __future__ import print_function\n",
        "\n",
        "import base64\n",
        "import imageio\n",
        "import IPython\n",
        "import matplotlib.pyplot as plt\n",
        "import numpy as np\n",
        "import PIL.Image\n",
        "import pyvirtualdisplay\n",
        "import reverb\n",
        "\n",
        "import tensorflow as tf\n",
        "\n",
        "from tf_agents.agents.reinforce import reinforce_agent\n",
        "from tf_agents.drivers import py_driver\n",
        "from tf_agents.environments import suite_gym\n",
        "from tf_agents.environments import tf_py_environment\n",
        "from tf_agents.networks import actor_distribution_network\n",
        "from tf_agents.policies import py_tf_eager_policy\n",
        "from tf_agents.replay_buffers import reverb_replay_buffer\n",
        "from tf_agents.replay_buffers import reverb_utils\n",
        "from tf_agents.specs import tensor_spec\n",
        "from tf_agents.trajectories import trajectory\n",
        "from tf_agents.utils import common\n",
        "\n",
        "# Set up a virtual display for rendering OpenAI gym environments.\n",
        "display = pyvirtualdisplay.Display(visible=0, size=(1400, 900)).start()"
      ]
    },
    {
      "cell_type": "markdown",
      "metadata": {
        "id": "LmC0NDhdLIKY"
      },
      "source": [
        "## Hyperparameters"
      ]
    },
    {
      "cell_type": "code",
      "execution_count": 9,
      "metadata": {
        "id": "HC1kNrOsLSIZ"
      },
      "outputs": [],
      "source": [
        "env_name = \"CartPole-v0\" # @param {type:\"string\"}\n",
        "num_iterations = 250 # @param {type:\"integer\"}\n",
        "collect_episodes_per_iteration = 2 # @param {type:\"integer\"}\n",
        "replay_buffer_capacity = 2000 # @param {type:\"integer\"}\n",
        "\n",
        "fc_layer_params = (100,)\n",
        "\n",
        "learning_rate = 1e-3 # @param {type:\"number\"}\n",
        "log_interval = 25 # @param {type:\"integer\"}\n",
        "num_eval_episodes = 10 # @param {type:\"integer\"}\n",
        "eval_interval = 50 # @param {type:\"integer\"}"
      ]
    },
    {
      "cell_type": "markdown",
      "metadata": {
        "id": "VMsJC3DEgI0x"
      },
      "source": [
        "## Environment\n",
        "\n",
        "Environments in RL represent the task or problem that we are trying to solve. Standard environments can be easily created in TF-Agents using `suites`. We have different `suites` for loading environments from sources such as the OpenAI Gym, Atari, DM Control, etc., given a string environment name.\n",
        "\n",
        "Now let us load the CartPole environment from the OpenAI Gym suite."
      ]
    },
    {
      "cell_type": "code",
      "execution_count": 10,
      "metadata": {
        "id": "pYEz-S9gEv2-"
      },
      "outputs": [],
      "source": [
        "env = suite_gym.load(env_name)"
      ]
    },
    {
      "cell_type": "markdown",
      "metadata": {
        "id": "IIHYVBkuvPNw"
      },
      "source": [
        "We can render this environment to see how it looks. A free-swinging pole is attached to a cart.  The goal is to move the cart right or left in order to keep the pole pointing up."
      ]
    },
    {
      "cell_type": "code",
      "execution_count": 11,
      "metadata": {
        "id": "RlO7WIQHu_7D",
        "outputId": "76eedb1e-b4ad-497f-d056-8cdaed7de794",
        "colab": {
          "base_uri": "https://localhost:8080/",
          "height": 417
        }
      },
      "outputs": [
        {
          "output_type": "execute_result",
          "data": {
            "text/plain": [
              "<PIL.Image.Image image mode=RGB size=600x400>"
            ],
            "image/png": "[encoded data removed]"
          },
          "metadata": {},
          "execution_count": 11
        }
      ],
      "source": [
        "#@test {\"skip\": true}\n",
        "env.reset()\n",
        "PIL.Image.fromarray(env.render())"
      ]
    },
    {
      "cell_type": "markdown",
      "metadata": {
        "id": "B9_lskPOey18"
      },
      "source": [
        "The `time_step = environment.step(action)` statement takes `action` in the environment.  The `TimeStep` tuple returned contains the environment's next observation and reward for that action. The `time_step_spec()` and `action_spec()` methods in the environment return the specifications (types, shapes, bounds) of the `time_step` and `action` respectively."
      ]
    },
    {
      "cell_type": "code",
      "execution_count": 12,
      "metadata": {
        "id": "exDv57iHfwQV",
        "outputId": "a7ba5ba9-61d3-4f64-94f1-ebe30f9a7cfb",
        "colab": {
          "base_uri": "https://localhost:8080/"
        }
      },
      "outputs": [
        {
          "output_type": "stream",
          "name": "stdout",
          "text": [
            "Observation Spec:\n",
            "BoundedArraySpec(shape=(4,), dtype=dtype('float32'), name='observation', minimum=[-4.8000002e+00 -3.4028235e+38 -4.1887903e-01 -3.4028235e+38], maximum=[4.8000002e+00 3.4028235e+38 4.1887903e-01 3.4028235e+38])\n",
            "Action Spec:\n",
            "BoundedArraySpec(shape=(), dtype=dtype('int64'), name='action', minimum=0, maximum=1)\n"
          ]
        }
      ],
      "source": [
        "print('Observation Spec:')\n",
        "print(env.time_step_spec().observation)\n",
        "print('Action Spec:')\n",
        "print(env.action_spec())"
      ]
    },
    {
      "cell_type": "markdown",
      "metadata": {
        "id": "eJCgJnx3g0yY"
      },
      "source": [
        "So, we see that observation is an array of 4 floats: the position and velocity of the cart, and the angular position and velocity of the pole. Since only two actions are possible (move left or move right), the `action_spec` is a scalar where 0 means \"move left\" and 1 means \"move right.\""
      ]
    },
    {
      "cell_type": "code",
      "execution_count": 13,
      "metadata": {
        "id": "V2UGR5t_iZX-",
        "outputId": "5428ab51-331f-4679-ceac-10496ccfdb45",
        "colab": {
          "base_uri": "https://localhost:8080/"
        }
      },
      "outputs": [
        {
          "output_type": "stream",
          "name": "stdout",
          "text": [
            "Time step:\n",
            "TimeStep(\n",
            "{'step_type': array(0, dtype=int32),\n",
            " 'reward': array(0., dtype=float32),\n",
            " 'discount': array(1., dtype=float32),\n",
            " 'observation': array([ 0.00883825, -0.02319925, -0.02625465,  0.00669991], dtype=float32)})\n",
            "Next time step:\n",
            "TimeStep(\n",
            "{'step_type': array(1, dtype=int32),\n",
            " 'reward': array(1., dtype=float32),\n",
            " 'discount': array(1., dtype=float32),\n",
            " 'observation': array([ 0.00837427,  0.1722892 , -0.02612065, -0.2941497 ], dtype=float32)})\n"
          ]
        }
      ],
      "source": [
        "time_step = env.reset()\n",
        "print('Time step:')\n",
        "print(time_step)\n",
        "\n",
        "action = np.array(1, dtype=np.int32)\n",
        "\n",
        "next_time_step = env.step(action)\n",
        "print('Next time step:')\n",
        "print(next_time_step)"
      ]
    },
    {
      "cell_type": "markdown",
      "metadata": {
        "id": "zuUqXAVmecTU"
      },
      "source": [
        "Usually we create two environments: one for training and one for evaluation. Most environments are written in pure python, but they can be easily converted to TensorFlow using the `TFPyEnvironment` wrapper. The original environment's API uses numpy arrays, the `TFPyEnvironment` converts these to/from `Tensors` for you to more easily interact with TensorFlow policies and agents.\n"
      ]
    },
    {
      "cell_type": "code",
      "execution_count": 14,
      "metadata": {
        "id": "Xp-Y4mD6eDhF"
      },
      "outputs": [],
      "source": [
        "train_py_env = suite_gym.load(env_name)\n",
        "eval_py_env = suite_gym.load(env_name)\n",
        "\n",
        "train_env = tf_py_environment.TFPyEnvironment(train_py_env)\n",
        "eval_env = tf_py_environment.TFPyEnvironment(eval_py_env)"
      ]
    },
    {
      "cell_type": "markdown",
      "metadata": {
        "id": "E9lW_OZYFR8A"
      },
      "source": [
        "## Agent\n",
        "\n",
        "The algorithm that we use to solve an RL problem is represented as an `Agent`. In addition to the REINFORCE agent, TF-Agents provides standard implementations of a variety of `Agents` such as [DQN](https://storage.googleapis.com/deepmind-media/dqn/DQNNaturePaper.pdf), [DDPG](https://arxiv.org/pdf/1509.02971.pdf), [TD3](https://arxiv.org/pdf/1802.09477.pdf), [PPO](https://arxiv.org/abs/1707.06347) and [SAC](https://arxiv.org/abs/1801.01290).\n",
        "\n",
        "To create a REINFORCE Agent, we first need an `Actor Network` that can learn to predict the action given an observation from the environment.\n",
        "\n",
        "We can easily create an `Actor Network` using the specs of the observations and actions. We can specify the layers in the network which, in this example, is the `fc_layer_params` argument set to a tuple of `ints` representing the sizes of each hidden layer (see the Hyperparameters section above).\n"
      ]
    },
    {
      "cell_type": "code",
      "execution_count": 15,
      "metadata": {
        "id": "TgkdEPg_muzV"
      },
      "outputs": [],
      "source": [
        "actor_net = actor_distribution_network.ActorDistributionNetwork(\n",
        "    train_env.observation_spec(),\n",
        "    train_env.action_spec(),\n",
        "    fc_layer_params=fc_layer_params)"
      ]
    },
    {
      "cell_type": "markdown",
      "metadata": {
        "id": "z62u55hSmviJ"
      },
      "source": [
        "We also need an `optimizer` to train the network we just created, and a `train_step_counter` variable to keep track of how many times the network was updated.\n"
      ]
    },
    {
      "cell_type": "code",
      "execution_count": 16,
      "metadata": {
        "id": "jbY4yrjTEyc9"
      },
      "outputs": [],
      "source": [
        "optimizer = tf.keras.optimizers.Adam(learning_rate=learning_rate)\n",
        "\n",
        "train_step_counter = tf.Variable(0)\n",
        "\n",
        "tf_agent = reinforce_agent.ReinforceAgent(\n",
        "    train_env.time_step_spec(),\n",
        "    train_env.action_spec(),\n",
        "    actor_network=actor_net,\n",
        "    optimizer=optimizer,\n",
        "    normalize_returns=True,\n",
        "    train_step_counter=train_step_counter)\n",
        "tf_agent.initialize()"
      ]
    },
    {
      "cell_type": "markdown",
      "metadata": {
        "id": "I0KLrEPwkn5x"
      },
      "source": [
        "## Policies\n",
        "\n",
        "In TF-Agents, policies represent the standard notion of policies in RL: given a `time_step` produce an action or a distribution over actions. The main method is `policy_step = policy.action(time_step)` where `policy_step` is a named tuple `PolicyStep(action, state, info)`.  The `policy_step.action` is the `action` to be applied to the environment, `state` represents the state for stateful (RNN) policies and `info` may contain auxiliary information such as log probabilities of the actions.\n",
        "\n",
        "Agents contain two policies: the main policy that is used for evaluation/deployment (agent.policy) and another policy that is used for data collection (agent.collect_policy)."
      ]
    },
    {
      "cell_type": "code",
      "execution_count": 17,
      "metadata": {
        "id": "BwY7StuMkuV4"
      },
      "outputs": [],
      "source": [
        "eval_policy = tf_agent.policy\n",
        "collect_policy = tf_agent.collect_policy"
      ]
    },
    {
      "cell_type": "markdown",
      "metadata": {
        "id": "94rCXQtbUbXv"
      },
      "source": [
        "## Metrics and Evaluation\n",
        "\n",
        "The most common metric used to evaluate a policy is the average return. The return is the sum of rewards obtained while running a policy in an environment for an episode, and we usually average this over a few episodes. We can compute the average return metric as follows.\n"
      ]
    },
    {
      "cell_type": "code",
      "execution_count": 18,
      "metadata": {
        "id": "bitzHo5_UbXy"
      },
      "outputs": [],
      "source": [
        "#@test {\"skip\": true}\n",
        "def compute_avg_return(environment, policy, num_episodes=10):\n",
        "\n",
        "  total_return = 0.0\n",
        "  for _ in range(num_episodes):\n",
        "\n",
        "    time_step = environment.reset()\n",
        "    episode_return = 0.0\n",
        "\n",
        "    while not time_step.is_last():\n",
        "      action_step = policy.action(time_step)\n",
        "      time_step = environment.step(action_step.action)\n",
        "      episode_return += time_step.reward\n",
        "    total_return += episode_return\n",
        "\n",
        "  avg_return = total_return / num_episodes\n",
        "  return avg_return.numpy()[0]\n",
        "\n",
        "\n",
        "# Please also see the metrics module for standard implementations of different\n",
        "# metrics."
      ]
    },
    {
      "cell_type": "markdown",
      "metadata": {
        "id": "NLva6g2jdWgr"
      },
      "source": [
        "## Replay Buffer\n",
        "\n",
        "In order to keep track of the data collected from the environment, we will use [Reverb](https://deepmind.com/research/open-source/Reverb), an efficient, extensible, and easy-to-use replay system by Deepmind. It stores experience data when we collect trajectories and is consumed during training.\n",
        "\n",
        "This replay buffer is constructed using specs describing the tensors that are to be stored, which can be obtained from the agent using `tf_agent.collect_data_spec`."
      ]
    },
    {
      "cell_type": "code",
      "execution_count": 19,
      "metadata": {
        "id": "vX2zGUWJGWAl"
      },
      "outputs": [],
      "source": [
        "table_name = 'uniform_table'\n",
        "replay_buffer_signature = tensor_spec.from_spec(\n",
        "      tf_agent.collect_data_spec)\n",
        "replay_buffer_signature = tensor_spec.add_outer_dim(\n",
        "      replay_buffer_signature)\n",
        "table = reverb.Table(\n",
        "    table_name,\n",
        "    max_size=replay_buffer_capacity,\n",
        "    sampler=reverb.selectors.Uniform(),\n",
        "    remover=reverb.selectors.Fifo(),\n",
        "    rate_limiter=reverb.rate_limiters.MinSize(1),\n",
        "    signature=replay_buffer_signature)\n",
        "\n",
        "reverb_server = reverb.Server([table])\n",
        "\n",
        "replay_buffer = reverb_replay_buffer.ReverbReplayBuffer(\n",
        "    tf_agent.collect_data_spec,\n",
        "    table_name=table_name,\n",
        "    sequence_length=None,\n",
        "    local_server=reverb_server)\n",
        "\n",
        "rb_observer = reverb_utils.ReverbAddEpisodeObserver(\n",
        "    replay_buffer.py_client,\n",
        "    table_name,\n",
        "    replay_buffer_capacity\n",
        ")"
      ]
    },
    {
      "cell_type": "markdown",
      "metadata": {
        "id": "ZGNTDJpZs4NN"
      },
      "source": [
        "For most agents, the `collect_data_spec` is a `Trajectory` named tuple containing the observation, action, reward etc."
      ]
    },
    {
      "cell_type": "markdown",
      "metadata": {
        "id": "rVD5nQ9ZGo8_"
      },
      "source": [
        "## Data Collection\n",
        "\n",
        "As REINFORCE learns from whole episodes, we define a function to collect an episode using the given data collection policy and save the data (observations, actions, rewards etc.) as trajectories in the replay buffer. Here we are using 'PyDriver' to run the experience collecting loop. You can learn more about TF Agents driver in our [drivers tutorial](https://www.tensorflow.org/agents/tutorials/4_drivers_tutorial)."
      ]
    },
    {
      "cell_type": "code",
      "execution_count": 20,
      "metadata": {
        "id": "wr1KSAEGG4h9"
      },
      "outputs": [],
      "source": [
        "#@test {\"skip\": true}\n",
        "\n",
        "def collect_episode(environment, policy, num_episodes):\n",
        "\n",
        "  driver = py_driver.PyDriver(\n",
        "    environment,\n",
        "    py_tf_eager_policy.PyTFEagerPolicy(\n",
        "      policy, use_tf_function=True),\n",
        "    [rb_observer],\n",
        "    max_episodes=num_episodes)\n",
        "  initial_time_step = environment.reset()\n",
        "  driver.run(initial_time_step)"
      ]
    },
    {
      "cell_type": "markdown",
      "metadata": {
        "id": "hBc9lj9VWWtZ"
      },
      "source": [
        "## Training the agent\n",
        "\n",
        "The training loop involves both collecting data from the environment and optimizing the agent's networks. Along the way, we will occasionally evaluate the agent's policy to see how we are doing.\n",
        "\n",
        "The following will take ~3 minutes to run."
      ]
    },
    {
      "cell_type": "code",
      "execution_count": 21,
      "metadata": {
        "id": "0pTbJ3PeyF-u",
        "outputId": "de062f30-f4ce-4603-a7e4-c969939d4f97",
        "colab": {
          "base_uri": "https://localhost:8080/"
        }
      },
      "outputs": [
        {
          "output_type": "stream",
          "name": "stdout",
          "text": [
            "step = 25: loss = 1.324686884880066\n",
            "step = 50: loss = 0.16262006759643555\n",
            "step = 50: Average Return = 91.9000015258789\n",
            "step = 75: loss = 0.02633380889892578\n",
            "step = 100: loss = -1.4819755554199219\n",
            "step = 100: Average Return = 96.19999694824219\n",
            "step = 125: loss = -1.4371528625488281\n",
            "step = 150: loss = 1.1085882186889648\n",
            "step = 150: Average Return = 84.80000305175781\n",
            "step = 175: loss = 2.0165624618530273\n",
            "step = 200: loss = 1.3233661651611328\n",
            "step = 200: Average Return = 163.0\n",
            "step = 225: loss = -4.208232402801514\n",
            "step = 250: loss = -0.9005279541015625\n",
            "step = 250: Average Return = 200.0\n"
          ]
        }
      ],
      "source": [
        "#@test {\"skip\": true}\n",
        "try:\n",
        "  %%time\n",
        "except:\n",
        "  pass\n",
        "\n",
        "# (Optional) Optimize by wrapping some of the code in a graph using TF function.\n",
        "tf_agent.train = common.function(tf_agent.train)\n",
        "\n",
        "# Reset the train step\n",
        "tf_agent.train_step_counter.assign(0)\n",
        "\n",
        "# Evaluate the agent's policy once before training.\n",
        "avg_return = compute_avg_return(eval_env, tf_agent.policy, num_eval_episodes)\n",
        "returns = [avg_return]\n",
        "\n",
        "for _ in range(num_iterations):\n",
        "\n",
        "  # Collect a few episodes using collect_policy and save to the replay buffer.\n",
        "  collect_episode(\n",
        "      train_py_env, tf_agent.collect_policy, collect_episodes_per_iteration)\n",
        "\n",
        "  # Use data from the buffer and update the agent's network.\n",
        "  iterator = iter(replay_buffer.as_dataset(sample_batch_size=1))\n",
        "  trajectories, _ = next(iterator)\n",
        "  train_loss = tf_agent.train(experience=trajectories)\n",
        "\n",
        "  replay_buffer.clear()\n",
        "\n",
        "  step = tf_agent.train_step_counter.numpy()\n",
        "\n",
        "  if step % log_interval == 0:\n",
        "    print('step = {0}: loss = {1}'.format(step, train_loss.loss))\n",
        "\n",
        "  if step % eval_interval == 0:\n",
        "    avg_return = compute_avg_return(eval_env, tf_agent.policy, num_eval_episodes)\n",
        "    print('step = {0}: Average Return = {1}'.format(step, avg_return))\n",
        "    returns.append(avg_return)"
      ]
    },
    {
      "cell_type": "markdown",
      "metadata": {
        "id": "68jNcA_TiJDq"
      },
      "source": [
        "## Visualization\n"
      ]
    },
    {
      "cell_type": "markdown",
      "metadata": {
        "id": "aO-LWCdbbOIC"
      },
      "source": [
        "### Plots\n",
        "\n",
        "We can plot return vs global steps to see the performance of our agent. In `Cartpole-v0`, the environment gives a reward of +1 for every time step the pole stays up, and since the maximum number of steps is 200, the maximum possible return is also 200."
      ]
    },
    {
      "cell_type": "code",
      "execution_count": 22,
      "metadata": {
        "id": "NxtL1mbOYCVO",
        "outputId": "2c5bc4ef-4e66-4ec8-99c7-85a0b6a2d634",
        "colab": {
          "base_uri": "https://localhost:8080/",
          "height": 473
        }
      },
      "outputs": [
        {
          "output_type": "execute_result",
          "data": {
            "text/plain": [
              "(0.8150002002716068, 250.0)"
            ]
          },
          "metadata": {},
          "execution_count": 22
        },
        {
          "output_type": "display_data",
          "data": {
            "text/plain": [
              "<Figure size 640x480 with 1 Axes>"
            ],
            "image/png": "[encoded data removed]"
          },
          "metadata": {}
        }
      ],
      "source": [
        "#@test {\"skip\": true}\n",
        "\n",
        "steps = range(0, num_iterations + 1, eval_interval)\n",
        "plt.plot(steps, returns)\n",
        "plt.ylabel('Average Return')\n",
        "plt.xlabel('Step')\n",
        "plt.ylim(top=250)"
      ]
    },
    {
      "cell_type": "markdown",
      "metadata": {
        "id": "M7-XpPP99Cy7"
      },
      "source": [
        "### Videos"
      ]
    },
    {
      "cell_type": "markdown",
      "metadata": {
        "id": "9pGfGxSH32gn"
      },
      "source": [
        "It is helpful to visualize the performance of an agent by rendering the environment at each step. Before we do that, let us first create a function to embed videos in this colab."
      ]
    },
    {
      "cell_type": "code",
      "execution_count": 23,
      "metadata": {
        "id": "ULaGr8pvOKbl"
      },
      "outputs": [],
      "source": [
        "def embed_mp4(filename):\n",
        "  \"\"\"Embeds an mp4 file in the notebook.\"\"\"\n",
        "  video = open(filename,'rb').read()\n",
        "  b64 = base64.b64encode(video)\n",
        "  tag = '''\n",
        "  <video width=\"640\" height=\"480\" controls>\n",
        "    <source src=\"data:video/mp4;base64,{0}\" type=\"video/mp4\">\n",
        "  Your browser does not support the video tag.\n",
        "  </video>'''.format(b64.decode())\n",
        "\n",
        "  return IPython.display.HTML(tag)"
      ]
    },
    {
      "cell_type": "markdown",
      "metadata": {
        "id": "9c_PH-pX4Pr5"
      },
      "source": [
        "The following code visualizes the agent's policy for a few episodes:"
      ]
    },
    {
      "cell_type": "code",
      "execution_count": 24,
      "metadata": {
        "id": "owOVWB158NlF",
        "outputId": "eec17688-8097-42eb-b90e-923a3c77c832",
        "colab": {
          "base_uri": "https://localhost:8080/",
          "height": 539
        }
      },
      "outputs": [
        {
          "output_type": "stream",
          "name": "stderr",
          "text": [
            "WARNING:root:IMAGEIO FFMPEG_WRITER WARNING: input image is not divisible by macro_block_size=16, resizing from (400, 600) to (400, 608) to ensure video compatibility with most codecs and players. To prevent resizing, make your input image divisible by the macro_block_size or set the macro_block_size to None (risking incompatibility). You may also see a FFMPEG warning concerning speedloss due to data not being aligned.\n"
          ]
        },
        {
          "output_type": "execute_result",
          "data": {
            "text/plain": [
              "<IPython.core.display.HTML object>"
            ],
            "text/html": [
              "\n",
              "  <video width=\"640\" height=\"480\" controls>\n",
              "    <source src=\"data:video/mp4;base64,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\" type=\"video/mp4\">\n",
              "  Your browser does not support the video tag.\n",
              "  </video>"
            ]
          },
          "metadata": {},
          "execution_count": 24
        }
      ],
      "source": [
        "num_episodes = 3\n",
        "video_filename = 'imageio.mp4'\n",
        "with imageio.get_writer(video_filename, fps=60) as video:\n",
        "  for _ in range(num_episodes):\n",
        "    time_step = eval_env.reset()\n",
        "    video.append_data(eval_py_env.render())\n",
        "    while not time_step.is_last():\n",
        "      action_step = tf_agent.policy.action(time_step)\n",
        "      time_step = eval_env.step(action_step.action)\n",
        "      video.append_data(eval_py_env.render())\n",
        "\n",
        "embed_mp4(video_filename)"
      ]
    }
  ],
  "metadata": {
    "accelerator": "GPU",
    "colab": {
      "name": "6_reinforce_tutorial.ipynb",
      "provenance": [],
      "toc_visible": true
    },
    "kernelspec": {
      "display_name": "Python 3",
      "name": "python3"
    }
  },
  "nbformat": 4,
  "nbformat_minor": 0
}